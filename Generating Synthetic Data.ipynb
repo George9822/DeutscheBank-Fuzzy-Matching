{
 "cells": [
  {
   "cell_type": "markdown",
   "metadata": {},
   "source": [
    "## Generating artificial data with Faker ##"
   ]
  },
  {
   "cell_type": "code",
   "execution_count": 1,
   "metadata": {},
   "outputs": [
    {
     "name": "stdout",
     "output_type": "stream",
     "text": [
      "Null counts in df1:\n",
      "FirstName      0\n",
      "LastName       0\n",
      "DateOfBirth    0\n",
      "dtype: int64\n",
      "Null counts in df2:\n",
      "FirstName      100039\n",
      "LastName       100360\n",
      "DateOfBirth     99601\n",
      "dtype: int64\n"
     ]
    },
    {
     "data": {
      "text/plain": [
       "(  FirstName  LastName DateOfBirth\n",
       " 0     Tracy    Garcia  1934-09-02\n",
       " 1   Melanie    Garcia  1959-03-24\n",
       " 2   Michael  Thornton  1942-03-21\n",
       " 3     Jason     Brown  2007-05-08\n",
       " 4   Patrick      Gray  2008-11-02,\n",
       "   FirstName  LastName DateOfBirth\n",
       " 0     Tracy    Garcia  1934-09-02\n",
       " 1   Melanie    Garcia  1959-03-24\n",
       " 2   Michael  Thornton  1942-03-21\n",
       " 3       NaN     Brown  2007-05-08\n",
       " 4   Patrick      Gray  2008-11-02)"
      ]
     },
     "execution_count": 1,
     "metadata": {},
     "output_type": "execute_result"
    }
   ],
   "source": [
    "import warnings\n",
    "warnings.simplefilter(action='ignore', category=FutureWarning)\n",
    "\n",
    "import pandas as pd\n",
    "import random\n",
    "from faker import Faker\n",
    "import numpy as np\n",
    "from random import randint\n",
    "import time\n",
    "# Initialize Faker\n",
    "fake = Faker()\n",
    "\n",
    "# Seed for reproducibility\n",
    "random.seed(0)\n",
    "\n",
    "# Generate dataframe1\n",
    "data1 = {\n",
    "    'FirstName': [fake.first_name() for _ in range(1000000)],\n",
    "    'LastName': [fake.last_name() for _ in range(1000000)],\n",
    "    'DateOfBirth': [fake.date_of_birth(minimum_age=0, maximum_age=100) for _ in range(1000000)]\n",
    "}\n",
    "\n",
    "df1 = pd.DataFrame(data1)\n",
    "\n",
    "# Function to introduce a random misspelling in a name\n",
    "def introduce_misspelling(name):\n",
    "    if len(name) < 2:\n",
    "        return name\n",
    "    index = random.randint(0, len(name) - 2)\n",
    "    return name[:index] + name[index+1] + name[index] + name[index+2:]\n",
    "\n",
    "# Generate dataframe2 by copying dataframe1 and introducing misspellings\n",
    "df2 = df1.copy()\n",
    "\n",
    "# Randomly decide which rows to misspell (50% of the rows)\n",
    "rows_to_misspell = random.sample(range(500000), 250000)\n",
    "\n",
    "for row in rows_to_misspell:\n",
    "    if random.choice([True, False]):\n",
    "        df2.at[row, 'FirstName'] = introduce_misspelling(df2.at[row, 'FirstName'])\n",
    "    else:\n",
    "        df2.at[row, 'LastName'] = introduce_misspelling(df2.at[row, 'LastName'])\n",
    "\n",
    "# Function to introduce null values\n",
    "def introduce_nulls(df):\n",
    "    total_cells = df.size\n",
    "    total_nulls = total_cells // 10\n",
    "    null_indices = random.sample(range(total_cells), total_nulls)\n",
    "\n",
    "    for idx in null_indices:\n",
    "        row, col = divmod(idx, df.shape[1])\n",
    "        df.iat[row, col] = np.nan\n",
    "\n",
    "# Introduce nulls in both dataframes\n",
    "# introduce_nulls(df1)\n",
    "introduce_nulls(df2)\n",
    "\n",
    "# Count and print the number of nulls in each column for df1\n",
    "print(\"Null counts in df1:\")\n",
    "print(df1.isnull().sum())\n",
    "\n",
    "# Count and print the number of nulls in each column for df2\n",
    "print(\"Null counts in df2:\")\n",
    "print(df2.isnull().sum())\n",
    "\n",
    "df1.to_csv(r\"C:\\Users\\dalia\\Desktop\\Radu\\DeutscheBank Fuzzy Matching\\dataframes\\hr_df1000000.csv\")\n",
    "df2.to_csv(r\"C:\\Users\\dalia\\Desktop\\Radu\\DeutscheBank Fuzzy Matching\\dataframes\\client_df1000000.csv\")\n",
    "\n",
    "df1.head(), df2.head()\n"
   ]
  },
  {
   "cell_type": "code",
   "execution_count": 3,
   "metadata": {},
   "outputs": [
    {
     "ename": "NameError",
     "evalue": "name 'fuzzy_match_with_score' is not defined",
     "output_type": "error",
     "traceback": [
      "\u001b[1;31m---------------------------------------------------------------------------\u001b[0m",
      "\u001b[1;31mNameError\u001b[0m                                 Traceback (most recent call last)",
      "Cell \u001b[1;32mIn[3], line 1\u001b[0m\n\u001b[1;32m----> 1\u001b[0m \u001b[38;5;28mprint\u001b[39m(\u001b[38;5;124m'\u001b[39m\u001b[38;5;124mfuzzy\u001b[39m\u001b[38;5;124m'\u001b[39m \u001b[38;5;129;01min\u001b[39;00m \u001b[43mfuzzy_match_with_score\u001b[49m)\n",
      "\u001b[1;31mNameError\u001b[0m: name 'fuzzy_match_with_score' is not defined"
     ]
    }
   ],
   "source": [
    "print('fuzzy' in fuzzy_match_with_score)"
   ]
  },
  {
   "cell_type": "code",
   "execution_count": null,
   "metadata": {},
   "outputs": [],
   "source": []
  }
 ],
 "metadata": {
  "kernelspec": {
   "display_name": "env",
   "language": "python",
   "name": "python3"
  },
  "language_info": {
   "codemirror_mode": {
    "name": "ipython",
    "version": 3
   },
   "file_extension": ".py",
   "mimetype": "text/x-python",
   "name": "python",
   "nbconvert_exporter": "python",
   "pygments_lexer": "ipython3",
   "version": "3.9.7"
  }
 },
 "nbformat": 4,
 "nbformat_minor": 2
}
